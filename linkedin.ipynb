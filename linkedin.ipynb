{
 "cells": [
  {
   "cell_type": "code",
   "execution_count": 1,
   "metadata": {},
   "outputs": [
    {
     "name": "stderr",
     "output_type": "stream",
     "text": [
      "INFO:numexpr.utils:Note: NumExpr detected 14 cores but \"NUMEXPR_MAX_THREADS\" not set, so enforcing safe limit of 8.\n",
      "INFO:numexpr.utils:NumExpr defaulting to 8 threads.\n"
     ]
    }
   ],
   "source": [
    "%load_ext autoreload\n",
    "\n",
    "%autoreload 2\n",
    "\n",
    "import logging\n",
    "logging.basicConfig(level=logging.DEBUG)\n",
    "from linkedin_api import AdvancedLinkedin\n",
    "from file_system import write_file"
   ]
  },
  {
   "cell_type": "code",
   "execution_count": 2,
   "metadata": {},
   "outputs": [
    {
     "name": "stderr",
     "output_type": "stream",
     "text": [
      "DEBUG:linkedin_api.client:Attempting to use cached cookies\n",
      "DEBUG:linkedin_api.client:Using cached cookies\n",
      "DEBUG:urllib3.connectionpool:Starting new HTTPS connection (1): www.linkedin.com:443\n",
      "DEBUG:urllib3.connectionpool:https://www.linkedin.com:443 \"GET / HTTP/1.1\" 302 0\n",
      "DEBUG:urllib3.connectionpool:https://www.linkedin.com:443 \"GET /hp HTTP/1.1\" 200 15174\n",
      "DEBUG:linkedin_api.client:Retrieved metadata with status 200\n"
     ]
    }
   ],
   "source": [
    "username = 'zoes8255@gmail.com'\n",
    "password = 'zglwtceruizl6013'\n",
    "proxy_ip = '193.148.93.140'\n",
    "proxy_port = 5410\n",
    "proxy_username = 'rorsqlaz'\n",
    "proxy_password = 'h0nt7qc8hox6'\n",
    "\n",
    "# username = 'shuo.feng@rexpandco.com'\n",
    "# password = 'Rexpand123!'\n",
    "# proxy_ip = '154.12.143.25'\n",
    "# proxy_port = 6450\n",
    "# proxy_username = 'rorsqlaz'\n",
    "# proxy_password = 'h0nt7qc8hox6'\n",
    "\n",
    "api = AdvancedLinkedin(username=username, password=password, \n",
    "                       proxy_ip=proxy_ip, proxy_port=proxy_port, proxy_username=proxy_username, proxy_password=proxy_password,\n",
    "                       authenticate=True, refresh_cookies=False)\n",
    "api.backup_cookies()\n"
   ]
  },
  {
   "cell_type": "code",
   "execution_count": 3,
   "metadata": {},
   "outputs": [],
   "source": [
    "# api.authenticate()\n"
   ]
  },
  {
   "cell_type": "code",
   "execution_count": 4,
   "metadata": {},
   "outputs": [],
   "source": [
    "public_id = 'shuo-feng'\n",
    "public_id = 'samuel-feng-a4454b284'\n"
   ]
  },
  {
   "cell_type": "code",
   "execution_count": 6,
   "metadata": {},
   "outputs": [
    {
     "name": "stderr",
     "output_type": "stream",
     "text": [
      "DEBUG:urllib3.connectionpool:Starting new HTTPS connection (1): www.linkedin.com:443\n",
      "DEBUG:urllib3.connectionpool:https://www.linkedin.com:443 \"GET /voyager/api/identity/dash/profiles?q=memberIdentity&memberIdentity=samuel-feng-a4454b284&decorationId=com.linkedin.voyager.dash.deco.identity.profile.WebTopCardCore-21 HTTP/1.1\" 200 1715\n",
      "DEBUG:linkedin_api.linkedin:Successfully called mini profile API for ID samuel-feng-a4454b284 with status 200 and data {'elements': [{'objectUrn': 'urn:li:member:1159909396', 'multiLocaleLastName': {'en_US': 'Feng'}, '$anti_abuse_metadata': {'/creatorBadgeStatus': {'sourceUrns': {'com.linkedin.common.urn.MemberUrn': 'urn:li:member:1159909396'}}, '/phoneticFirstName': {'sourceUrns': {'com.linkedin.common.urn.MemberUrn': 'urn:li:member:1159909396'}}, '/headlineGeneratedSuggestionDelegateUrn': {'sourceUrns': {'com.linkedin.common.urn.MemberUrn': 'urn:li:member:1159909396'}}, '/industryV2Urn': {'sourceUrns': {'com.linkedin.common.urn.MemberUrn': 'urn:li:member:1159909396'}}, '/tempStatus': {'sourceUrns': {'com.linkedin.common.urn.MemberUrn': 'urn:li:member:1159909396'}}, '/defaultToActivityTab': {'sourceUrns': {'com.linkedin.common.urn.MemberUrn': 'urn:li:member:1159909396'}}, '/companyNameOnProfileTopCardShown': {'sourceUrns': {'com.linkedin.common.urn.MemberUrn': 'urn:li:member:1159909396'}}, '/summary': {'sourceUrns': {'com.linkedin.common.urn.MemberUrn': 'urn:li:member:1159909396'}}, '/influencer': {'sourceUrns': {'com.linkedin.common.urn.MemberUrn': 'urn:li:member:1159909396'}}, '/trackingId': {'sourceUrns': {'com.linkedin.common.urn.MemberUrn': 'urn:li:member:1159909396'}}, '/address': {'sourceUrns': {'com.linkedin.common.urn.MemberUrn': 'urn:li:member:1159909396'}}, '/objectUrn': {'sourceUrns': {'com.linkedin.common.urn.MemberUrn': 'urn:li:member:1159909396'}}, '/emailRequired': {'sourceUrns': {'com.linkedin.common.urn.MemberUrn': 'urn:li:member:1159909396'}}, '/geoLocationBackfilled': {'sourceUrns': {'com.linkedin.common.urn.MemberUrn': 'urn:li:member:1159909396'}}, '/versionTag': {'sourceUrns': {'com.linkedin.common.urn.MemberUrn': 'urn:li:member:1159909396'}}, '/premium': {'sourceUrns': {'com.linkedin.common.urn.MemberUrn': 'urn:li:member:1159909396'}}, '/headline': {'sourceUrns': {'com.linkedin.common.urn.MemberUrn': 'urn:li:member:1159909396'}}, '/showPremiumSubscriberBadge': {'sourceUrns': {'com.linkedin.common.urn.MemberUrn': 'urn:li:member:1159909396'}}, '/educationCardUrn': {'sourceUrns': {'com.linkedin.common.urn.MemberUrn': 'urn:li:member:1159909396'}}, '/experienceCardUrn': {'sourceUrns': {'com.linkedin.common.urn.MemberUrn': 'urn:li:member:1159909396'}}, '/locationName': {'sourceUrns': {'com.linkedin.common.urn.MemberUrn': 'urn:li:member:1159909396'}}, '/industryUrn': {'sourceUrns': {'com.linkedin.common.urn.MemberUrn': 'urn:li:member:1159909396'}}, '/educationOnProfileTopCardShown': {'sourceUrns': {'com.linkedin.common.urn.MemberUrn': 'urn:li:member:1159909396'}}, '/trackingMemberId': {'sourceUrns': {'com.linkedin.common.urn.MemberUrn': 'urn:li:member:1159909396'}}, '/lastName': {'sourceUrns': {'com.linkedin.common.urn.MemberUrn': 'urn:li:member:1159909396'}}, '/memorialized': {'sourceUrns': {'com.linkedin.common.urn.MemberUrn': 'urn:li:member:1159909396'}}, '/tempStatusEmoji': {'sourceUrns': {'com.linkedin.common.urn.MemberUrn': 'urn:li:member:1159909396'}}, '/entityUrn': {'sourceUrns': {'com.linkedin.common.urn.MemberUrn': 'urn:li:member:1159909396'}}, '/lastNamePronunciationHint': {'sourceUrns': {'com.linkedin.common.urn.MemberUrn': 'urn:li:member:1159909396'}}, '/firstName': {'sourceUrns': {'com.linkedin.common.urn.MemberUrn': 'urn:li:member:1159909396'}}, '/firstNamePronunciationHint': {'sourceUrns': {'com.linkedin.common.urn.MemberUrn': 'urn:li:member:1159909396'}}, '/phoneticLastName': {'sourceUrns': {'com.linkedin.common.urn.MemberUrn': 'urn:li:member:1159909396'}}, '/endorsementsEnabled': {'sourceUrns': {'com.linkedin.common.urn.MemberUrn': 'urn:li:member:1159909396'}}, '/maidenName': {'sourceUrns': {'com.linkedin.common.urn.MemberUrn': 'urn:li:member:1159909396'}}, '/showVerificationBadge': {'sourceUrns': {'com.linkedin.common.urn.MemberUrn': 'urn:li:member:1159909396'}}, '/creator': {'sourceUrns': {'com.linkedin.common.urn.MemberUrn': 'urn:li:member:1159909396'}}, '/student': {'sourceUrns': {'com.linkedin.common.urn.MemberUrn': 'urn:li:member:1159909396'}}, '/iweWarned': {'sourceUrns': {'com.linkedin.common.urn.MemberUrn': 'urn:li:member:1159909396'}}, '/imFollowsPromoLegoTrackingId': {'sourceUrns': {'com.linkedin.common.urn.MemberUrn': 'urn:li:member:1159909396'}}, '/publicIdentifier': {'sourceUrns': {'com.linkedin.common.urn.MemberUrn': 'urn:li:member:1159909396'}}}, 'multiLocaleFirstName': {'en_US': 'Samuel'}, 'experienceCardUrn': 'urn:li:fsd_profileCard:(ACoAAEUi0BQB-WIP_IolPRGoYb4K5vGPqYTsHpg,EXPERIENCE,en_US)', 'headlineGeneratedSuggestionDelegateUrn': 'urn:li:fsu_profileActionDelegate:562482210', 'publicIdentifier': 'samuel-feng-a4454b284', 'experienceCard': {'entityUrn': 'urn:li:fsd_profileCard:(ACoAAEUi0BQB-WIP_IolPRGoYb4K5vGPqYTsHpg,EXPERIENCE,en_US)', '$recipeType': 'com.linkedin.deco.recipe.anonymous.Anon1052602939'}, 'trackingId': '+thcM5d6TRyxoAzDVjcnhw==', 'educationCard': {'entityUrn': 'urn:li:fsd_profileCard:(ACoAAEUi0BQB-WIP_IolPRGoYb4K5vGPqYTsHpg,EDUCATION,en_US)', '$recipeType': 'com.linkedin.deco.recipe.anonymous.Anon1052602939'}, 'versionTag': '3473025520', 'firstName': 'Samuel', 'profilePicture': {'a11yText': 'Samuel Feng', '$recipeType': 'com.linkedin.voyager.dash.deco.identity.profile.ProfilePhotoDecoSpecEditableProfilePicture'}, 'showVerificationBadge': False, 'memberRelationship': {'memberRelationshipUnion': {'noConnection': {'memberDistance': 'DISTANCE_2', '$recipeType': 'com.linkedin.voyager.dash.deco.relationships.NoConnection', 'invitationUnion': {'invitation': {'inviteeMemberResolutionResult': {'lastName': 'Feng', 'memorialized': False, '$anti_abuse_metadata': {'/creatorBadgeStatus': {'sourceUrns': {'com.linkedin.common.urn.MemberUrn': 'urn:li:member:1159909396'}}, '/phoneticFirstName': {'sourceUrns': {'com.linkedin.common.urn.MemberUrn': 'urn:li:member:1159909396'}}, '/headlineGeneratedSuggestionDelegateUrn': {'sourceUrns': {'com.linkedin.common.urn.MemberUrn': 'urn:li:member:1159909396'}}, '/industryV2Urn': {'sourceUrns': {'com.linkedin.common.urn.MemberUrn': 'urn:li:member:1159909396'}}, '/tempStatus': {'sourceUrns': {'com.linkedin.common.urn.MemberUrn': 'urn:li:member:1159909396'}}, '/defaultToActivityTab': {'sourceUrns': {'com.linkedin.common.urn.MemberUrn': 'urn:li:member:1159909396'}}, '/companyNameOnProfileTopCardShown': {'sourceUrns': {'com.linkedin.common.urn.MemberUrn': 'urn:li:member:1159909396'}}, '/summary': {'sourceUrns': {'com.linkedin.common.urn.MemberUrn': 'urn:li:member:1159909396'}}, '/influencer': {'sourceUrns': {'com.linkedin.common.urn.MemberUrn': 'urn:li:member:1159909396'}}, '/trackingId': {'sourceUrns': {'com.linkedin.common.urn.MemberUrn': 'urn:li:member:1159909396'}}, '/address': {'sourceUrns': {'com.linkedin.common.urn.MemberUrn': 'urn:li:member:1159909396'}}, '/objectUrn': {'sourceUrns': {'com.linkedin.common.urn.MemberUrn': 'urn:li:member:1159909396'}}, '/emailRequired': {'sourceUrns': {'com.linkedin.common.urn.MemberUrn': 'urn:li:member:1159909396'}}, '/geoLocationBackfilled': {'sourceUrns': {'com.linkedin.common.urn.MemberUrn': 'urn:li:member:1159909396'}}, '/versionTag': {'sourceUrns': {'com.linkedin.common.urn.MemberUrn': 'urn:li:member:1159909396'}}, '/premium': {'sourceUrns': {'com.linkedin.common.urn.MemberUrn': 'urn:li:member:1159909396'}}, '/headline': {'sourceUrns': {'com.linkedin.common.urn.MemberUrn': 'urn:li:member:1159909396'}}, '/showPremiumSubscriberBadge': {'sourceUrns': {'com.linkedin.common.urn.MemberUrn': 'urn:li:member:1159909396'}}, '/educationCardUrn': {'sourceUrns': {'com.linkedin.common.urn.MemberUrn': 'urn:li:member:1159909396'}}, '/experienceCardUrn': {'sourceUrns': {'com.linkedin.common.urn.MemberUrn': 'urn:li:member:1159909396'}}, '/locationName': {'sourceUrns': {'com.linkedin.common.urn.MemberUrn': 'urn:li:member:1159909396'}}, '/industryUrn': {'sourceUrns': {'com.linkedin.common.urn.MemberUrn': 'urn:li:member:1159909396'}}, '/educationOnProfileTopCardShown': {'sourceUrns': {'com.linkedin.common.urn.MemberUrn': 'urn:li:member:1159909396'}}, '/trackingMemberId': {'sourceUrns': {'com.linkedin.common.urn.MemberUrn': 'urn:li:member:1159909396'}}, '/lastName': {'sourceUrns': {'com.linkedin.common.urn.MemberUrn': 'urn:li:member:1159909396'}}, '/memorialized': {'sourceUrns': {'com.linkedin.common.urn.MemberUrn': 'urn:li:member:1159909396'}}, '/tempStatusEmoji': {'sourceUrns': {'com.linkedin.common.urn.MemberUrn': 'urn:li:member:1159909396'}}, '/entityUrn': {'sourceUrns': {'com.linkedin.common.urn.MemberUrn': 'urn:li:member:1159909396'}}, '/lastNamePronunciationHint': {'sourceUrns': {'com.linkedin.common.urn.MemberUrn': 'urn:li:member:1159909396'}}, '/firstName': {'sourceUrns': {'com.linkedin.common.urn.MemberUrn': 'urn:li:member:1159909396'}}, '/firstNamePronunciationHint': {'sourceUrns': {'com.linkedin.common.urn.MemberUrn': 'urn:li:member:1159909396'}}, '/phoneticLastName': {'sourceUrns': {'com.linkedin.common.urn.MemberUrn': 'urn:li:member:1159909396'}}, '/endorsementsEnabled': {'sourceUrns': {'com.linkedin.common.urn.MemberUrn': 'urn:li:member:1159909396'}}, '/maidenName': {'sourceUrns': {'com.linkedin.common.urn.MemberUrn': 'urn:li:member:1159909396'}}, '/showVerificationBadge': {'sourceUrns': {'com.linkedin.common.urn.MemberUrn': 'urn:li:member:1159909396'}}, '/creator': {'sourceUrns': {'com.linkedin.common.urn.MemberUrn': 'urn:li:member:1159909396'}}, '/student': {'sourceUrns': {'com.linkedin.common.urn.MemberUrn': 'urn:li:member:1159909396'}}, '/iweWarned': {'sourceUrns': {'com.linkedin.common.urn.MemberUrn': 'urn:li:member:1159909396'}}, '/imFollowsPromoLegoTrackingId': {'sourceUrns': {'com.linkedin.common.urn.MemberUrn': 'urn:li:member:1159909396'}}, '/publicIdentifier': {'sourceUrns': {'com.linkedin.common.urn.MemberUrn': 'urn:li:member:1159909396'}}}, 'firstName': 'Samuel', 'profilePicture': {'a11yText': 'Samuel Feng', '$recipeType': 'com.linkedin.voyager.dash.deco.identity.profile.ProfilePhotoDecoSpecReadOnlyProfilePicture'}, 'entityUrn': 'urn:li:fsd_profile:ACoAAEUi0BQB-WIP_IolPRGoYb4K5vGPqYTsHpg', '$recipeType': 'com.linkedin.deco.recipe.anonymous.Anon336652209', 'headline': 'Software Engineer at Rexpand', 'publicIdentifier': 'samuel-feng-a4454b284'}, 'invitationType': 'SENT', 'inviteeMember': 'urn:li:fsd_profile:ACoAAEUi0BQB-WIP_IolPRGoYb4K5vGPqYTsHpg', 'entityUrn': 'urn:li:fsd_invitation:7173249124148858881', 'invitationState': 'PENDING', '$recipeType': 'com.linkedin.voyager.dash.deco.relationships.Invitation', 'invitationId': 7173249124148858881}}}}, '$recipeType': 'com.linkedin.voyager.dash.deco.relationships.MemberRelationshipV2ForInjection', 'entityUrn': 'urn:li:fsd_memberRelationship:ACoAAEUi0BQB-WIP_IolPRGoYb4K5vGPqYTsHpg', 'memberRelationshipData': {'invitation': {'inviteeMemberResolutionResult': {'lastName': 'Feng', 'memorialized': False, '$anti_abuse_metadata': {'/creatorBadgeStatus': {'sourceUrns': {'com.linkedin.common.urn.MemberUrn': 'urn:li:member:1159909396'}}, '/phoneticFirstName': {'sourceUrns': {'com.linkedin.common.urn.MemberUrn': 'urn:li:member:1159909396'}}, '/headlineGeneratedSuggestionDelegateUrn': {'sourceUrns': {'com.linkedin.common.urn.MemberUrn': 'urn:li:member:1159909396'}}, '/industryV2Urn': {'sourceUrns': {'com.linkedin.common.urn.MemberUrn': 'urn:li:member:1159909396'}}, '/tempStatus': {'sourceUrns': {'com.linkedin.common.urn.MemberUrn': 'urn:li:member:1159909396'}}, '/defaultToActivityTab': {'sourceUrns': {'com.linkedin.common.urn.MemberUrn': 'urn:li:member:1159909396'}}, '/companyNameOnProfileTopCardShown': {'sourceUrns': {'com.linkedin.common.urn.MemberUrn': 'urn:li:member:1159909396'}}, '/summary': {'sourceUrns': {'com.linkedin.common.urn.MemberUrn': 'urn:li:member:1159909396'}}, '/influencer': {'sourceUrns': {'com.linkedin.common.urn.MemberUrn': 'urn:li:member:1159909396'}}, '/trackingId': {'sourceUrns': {'com.linkedin.common.urn.MemberUrn': 'urn:li:member:1159909396'}}, '/address': {'sourceUrns': {'com.linkedin.common.urn.MemberUrn': 'urn:li:member:1159909396'}}, '/objectUrn': {'sourceUrns': {'com.linkedin.common.urn.MemberUrn': 'urn:li:member:1159909396'}}, '/emailRequired': {'sourceUrns': {'com.linkedin.common.urn.MemberUrn': 'urn:li:member:1159909396'}}, '/geoLocationBackfilled': {'sourceUrns': {'com.linkedin.common.urn.MemberUrn': 'urn:li:member:1159909396'}}, '/versionTag': {'sourceUrns': {'com.linkedin.common.urn.MemberUrn': 'urn:li:member:1159909396'}}, '/premium': {'sourceUrns': {'com.linkedin.common.urn.MemberUrn': 'urn:li:member:1159909396'}}, '/headline': {'sourceUrns': {'com.linkedin.common.urn.MemberUrn': 'urn:li:member:1159909396'}}, '/showPremiumSubscriberBadge': {'sourceUrns': {'com.linkedin.common.urn.MemberUrn': 'urn:li:member:1159909396'}}, '/educationCardUrn': {'sourceUrns': {'com.linkedin.common.urn.MemberUrn': 'urn:li:member:1159909396'}}, '/experienceCardUrn': {'sourceUrns': {'com.linkedin.common.urn.MemberUrn': 'urn:li:member:1159909396'}}, '/locationName': {'sourceUrns': {'com.linkedin.common.urn.MemberUrn': 'urn:li:member:1159909396'}}, '/industryUrn': {'sourceUrns': {'com.linkedin.common.urn.MemberUrn': 'urn:li:member:1159909396'}}, '/educationOnProfileTopCardShown': {'sourceUrns': {'com.linkedin.common.urn.MemberUrn': 'urn:li:member:1159909396'}}, '/trackingMemberId': {'sourceUrns': {'com.linkedin.common.urn.MemberUrn': 'urn:li:member:1159909396'}}, '/lastName': {'sourceUrns': {'com.linkedin.common.urn.MemberUrn': 'urn:li:member:1159909396'}}, '/memorialized': {'sourceUrns': {'com.linkedin.common.urn.MemberUrn': 'urn:li:member:1159909396'}}, '/tempStatusEmoji': {'sourceUrns': {'com.linkedin.common.urn.MemberUrn': 'urn:li:member:1159909396'}}, '/entityUrn': {'sourceUrns': {'com.linkedin.common.urn.MemberUrn': 'urn:li:member:1159909396'}}, '/lastNamePronunciationHint': {'sourceUrns': {'com.linkedin.common.urn.MemberUrn': 'urn:li:member:1159909396'}}, '/firstName': {'sourceUrns': {'com.linkedin.common.urn.MemberUrn': 'urn:li:member:1159909396'}}, '/firstNamePronunciationHint': {'sourceUrns': {'com.linkedin.common.urn.MemberUrn': 'urn:li:member:1159909396'}}, '/phoneticLastName': {'sourceUrns': {'com.linkedin.common.urn.MemberUrn': 'urn:li:member:1159909396'}}, '/endorsementsEnabled': {'sourceUrns': {'com.linkedin.common.urn.MemberUrn': 'urn:li:member:1159909396'}}, '/maidenName': {'sourceUrns': {'com.linkedin.common.urn.MemberUrn': 'urn:li:member:1159909396'}}, '/showVerificationBadge': {'sourceUrns': {'com.linkedin.common.urn.MemberUrn': 'urn:li:member:1159909396'}}, '/creator': {'sourceUrns': {'com.linkedin.common.urn.MemberUrn': 'urn:li:member:1159909396'}}, '/student': {'sourceUrns': {'com.linkedin.common.urn.MemberUrn': 'urn:li:member:1159909396'}}, '/iweWarned': {'sourceUrns': {'com.linkedin.common.urn.MemberUrn': 'urn:li:member:1159909396'}}, '/imFollowsPromoLegoTrackingId': {'sourceUrns': {'com.linkedin.common.urn.MemberUrn': 'urn:li:member:1159909396'}}, '/publicIdentifier': {'sourceUrns': {'com.linkedin.common.urn.MemberUrn': 'urn:li:member:1159909396'}}}, 'firstName': 'Samuel', 'profilePicture': {'a11yText': 'Samuel Feng', '$recipeType': 'com.linkedin.voyager.dash.deco.identity.profile.ProfilePhotoDecoSpecReadOnlyProfilePicture'}, 'entityUrn': 'urn:li:fsd_profile:ACoAAEUi0BQB-WIP_IolPRGoYb4K5vGPqYTsHpg', '$recipeType': 'com.linkedin.deco.recipe.anonymous.Anon336652209', 'headline': 'Software Engineer at Rexpand', 'publicIdentifier': 'samuel-feng-a4454b284'}, 'invitationType': 'SENT', 'inviteeMember': 'urn:li:fsd_profile:ACoAAEUi0BQB-WIP_IolPRGoYb4K5vGPqYTsHpg', 'entityUrn': 'urn:li:fsd_invitation:7173249124148858881', 'invitationState': 'PENDING', '$recipeType': 'com.linkedin.voyager.dash.deco.relationships.Invitation', 'invitationId': 7173249124148858881}}}, 'profileGeneratedSuggestionPromo': {'paging': {'start': 0, 'count': 10, 'links': [], '$recipeType': 'com.linkedin.voyager.dash.deco.common.FullPaging'}, '$recipeType': 'com.linkedin.deco.recipe.anonymous.Anon2082042641', 'elements': []}, '$recipeType': 'com.linkedin.voyager.dash.deco.identity.profile.WebTopCardCore', 'multiLocaleHeadline': {'en_US': 'Software Engineer at Rexpand'}, 'lastName': 'Feng', 'memorialized': False, 'showPremiumSubscriberBadge': True, 'premium': True, 'influencer': False, 'entityUrn': 'urn:li:fsd_profile:ACoAAEUi0BQB-WIP_IolPRGoYb4K5vGPqYTsHpg', 'headline': 'Software Engineer at Rexpand', 'creator': False, 'supportedLocales': [{'country': 'US', 'language': 'en', '$recipeType': 'com.linkedin.voyager.dash.deco.common.Locale'}], 'privacySettings': {'fullLastNameShown': True, 'formerNameVisibilitySetting': 'PUBLIC', 'discloseAsProfileViewer': 'DISCLOSE_FULL', 'allowProfileEditBroadcasts': False, 'entityUrn': 'urn:li:fsd_privacySettings:singleton', 'publicProfilePictureVisibilitySetting': 'PUBLIC', 'pronounVisibilitySetting': 'MEMBERS', 'showPublicProfile': True, 'allowOpenProfile': False, 'profilePictureVisibilitySetting': 'PUBLIC', 'namePronunciationVisibilitySetting': 'MEMBERS', '$recipeType': 'com.linkedin.voyager.dash.deco.identity.profile.ViewerPrivacySettingsForInjection'}, 'geoLocation': {'geo': {'countryUrn': 'urn:li:fsd_geo:103644278', 'country': {'$recipeType': 'com.linkedin.deco.recipe.anonymous.Anon1918694303', 'entityUrn': 'urn:li:fsd_geo:103644278', 'defaultLocalizedName': 'United States'}, 'defaultLocalizedNameWithoutCountryName': 'Dallas, Texas', 'entityUrn': 'urn:li:fsd_geo:104194190', '$recipeType': 'com.linkedin.deco.recipe.anonymous.Anon1745422644', 'defaultLocalizedName': 'Dallas, Texas, United States'}, 'geoUrn': 'urn:li:fsd_geo:104194190', '$recipeType': 'com.linkedin.deco.recipe.anonymous.Anon2049076601'}, 'primaryLocale': {'country': 'US', 'language': 'en', '$recipeType': 'com.linkedin.voyager.dash.deco.common.LocaleFull'}, 'educationCardUrn': 'urn:li:fsd_profileCard:(ACoAAEUi0BQB-WIP_IolPRGoYb4K5vGPqYTsHpg,EDUCATION,en_US)'}], 'paging': {'count': 10, 'start': 0, 'links': []}}\n",
      "INFO:root:Wrote JSON data to ./output/mini_profile.json\n"
     ]
    }
   ],
   "source": [
    "profile = api.get_mini_profile(public_id=public_id, verbose=True, retry_limit=1)\n",
    "write_file(profile, './output/mini_profile.json', verbose=True)\n"
   ]
  },
  {
   "cell_type": "code",
   "execution_count": null,
   "metadata": {},
   "outputs": [],
   "source": [
    "# self = None\n",
    "\n",
    "# getattr(self, 'username', '123')"
   ]
  },
  {
   "cell_type": "code",
   "execution_count": 35,
   "metadata": {},
   "outputs": [
    {
     "data": {
      "text/plain": [
       "0.5165375310038433"
      ]
     },
     "execution_count": 35,
     "metadata": {},
     "output_type": "execute_result"
    }
   ],
   "source": [
    "# import random\n",
    "\n",
    "# random.random() * 0.5 + 0.5\n"
   ]
  },
  {
   "cell_type": "code",
   "execution_count": null,
   "metadata": {},
   "outputs": [],
   "source": []
  },
  {
   "cell_type": "code",
   "execution_count": 7,
   "metadata": {},
   "outputs": [
    {
     "name": "stderr",
     "output_type": "stream",
     "text": [
      "DEBUG:root:Final configuration: {'enable_retry': True, 'retry_limit': 1, 'verbose': True, 'enable_final_on_retry_prepare': True, 'enable_validate_retryable_response': True}\n",
      "DEBUG:root:Current attempt: 1\n",
      "DEBUG:urllib3.connectionpool:https://www.linkedin.com:443 \"GET /voyager/api/identity/profiles/samuel-feng-a4454b284/profileView HTTP/1.1\" 999 1530\n",
      "DEBUG:linkedin_api.linkedin:Failed to call profile v2 API for ID samuel-feng-a4454b284 with status 999 and data <html><head>\\n<script type=\"text/javascript\">\\nwindow.onload = function() {\\n  // Parse the tracking code from cookies.\\n  var trk = \"bf\";\\n  var trkInfo = \"bf\";\\n  var cookies = document.cookie.split(\"; \");\\n  for (var i = 0; i < cookies.length; ++i) {\\n    if ((cookies[i].indexOf(\"trkCode=\") == 0) && (coo... (truncated)\n",
      "DEBUG:root:Retrying since its response is retryable, retry is enabled, and attempt count 1 is under or equal to retry limit 1\n",
      "DEBUG:root:Triggering retry preparation method\n",
      "DEBUG:linkedin_api.client:Requesting new cookies\n",
      "DEBUG:urllib3.connectionpool:Starting new HTTPS connection (1): www.linkedin.com:443\n",
      "DEBUG:urllib3.connectionpool:https://www.linkedin.com:443 \"GET /uas/authenticate HTTP/1.1\" 200 46\n",
      "DEBUG:linkedin_api.client:Retrieved session cookies with status 200 and response {\"status\":\"success\"}\n",
      "DEBUG:urllib3.connectionpool:Starting new HTTPS connection (1): www.linkedin.com:443\n",
      "DEBUG:urllib3.connectionpool:https://www.linkedin.com:443 \"POST /uas/authenticate HTTP/1.1\" 200 67\n",
      "DEBUG:linkedin_api.client:Retrieved persistent cookies with status 200 and response {\"login_result\":\"PASS\",\"challenge_url\":\"\"}\n",
      "DEBUG:urllib3.connectionpool:Starting new HTTPS connection (1): www.linkedin.com:443\n",
      "DEBUG:urllib3.connectionpool:https://www.linkedin.com:443 \"GET / HTTP/1.1\" 200 None\n",
      "DEBUG:linkedin_api.client:Retrieved metadata with status 200\n",
      "DEBUG:root:Current attempt: 2\n",
      "DEBUG:urllib3.connectionpool:https://www.linkedin.com:443 \"GET /voyager/api/identity/profiles/samuel-feng-a4454b284/profileView HTTP/1.1\" 200 2030\n",
      "DEBUG:linkedin_api.linkedin:Successfully called profile v2 API for ID samuel-feng-a4454b284 with status 200 and data {'positionGroupView': {'paging': {'start': 0, 'count': 5, 'total': 1, 'links': []}, 'entityUrn': 'urn:li:fs_positionGroupView:ACoAAEUi0BQB-WIP_IolPRGoYb4K5vGPqYTsHpg', 'profileId': 'ACoAAEUi0BQB-WIP_IolPRGoYb4K5vGPqYTsHpg', 'elements': [{'timePeriod': {}, 'name': 'Rexpand', 'positions': [{'entityUrn': 'urn:li:fs_position:(ACoAAEUi0BQB-WIP_IolPRGoYb4K5vGPqYTsHpg,2216198050)', '$anti_abuse_metadata': {'/geoUrn': {'sourceUrns': {'com.linkedin.common.urn.MemberUrn': 'urn:li:member:1159909396'}}, '/companyName': {'sourceUrns': {'com.linkedin.common.urn.MemberUrn': 'urn:li:member:1159909396'}}, '/companyUrn': {'sourceUrns': {'com.linkedin.common.urn.MemberUrn': 'urn:li:member:1159909396'}}, '/entityUrn': {'sourceUrns': {'com.linkedin.common.urn.MemberUrn': 'urn:li:member:1159909396'}}, '/geoLocationName': {'sourceUrns': {'com.linkedin.common.urn.MemberUrn': 'urn:li:member:1159909396'}}, '/promotion': {'sourceUrns': {'com.linkedin.common.urn.MemberUrn': 'urn:li:member:1159909396'}}, '/title': {'sourceUrns': {'com.linkedin.common.urn.MemberUrn': 'urn:li:member:1159909396'}}, '/region': {'sourceUrns': {'com.linkedin.common.urn.MemberUrn': 'urn:li:member:1159909396'}}, '/locationName': {'sourceUrns': {'com.linkedin.common.urn.MemberUrn': 'urn:li:member:1159909396'}}, '/description': {'sourceUrns': {'com.linkedin.common.urn.MemberUrn': 'urn:li:member:1159909396'}}}, 'companyName': 'Rexpand', 'company': {'miniCompany': {'objectUrn': 'urn:li:company:94219255', 'entityUrn': 'urn:li:fs_miniCompany:94219255', 'name': 'Rexpand', 'showcase': False, 'active': True, 'logo': {'com.linkedin.common.VectorImage': {'artifacts': [{'width': 200, 'fileIdentifyingUrlPathSegment': '200_200/0/1683699907839?e=1718841600&v=beta&t=bERTTFe6F0mxkTZicv218wUPLXoBDbOVO4qpl3NxLFs', 'expiresAt': 1718841600000, 'height': 200}, {'width': 100, 'fileIdentifyingUrlPathSegment': '100_100/0/1683699907839?e=1718841600&v=beta&t=qB9VU25XihK3d479zlfd88gSmmPk_8boYZ6Qxzs1plY', 'expiresAt': 1718841600000, 'height': 100}, {'width': 400, 'fileIdentifyingUrlPathSegment': '400_400/0/1683699907839?e=1718841600&v=beta&t=9Wbvg67MknbdTBFCgTAVNYM5G-TrtEr9Vli28aZAQ7c', 'expiresAt': 1718841600000, 'height': 400}], 'rootUrl': 'https://media.licdn.com/dms/image/D4E0BAQEEi27Y3Auqdg/company-logo_'}}, 'universalName': 'rexpandcareer', 'dashCompanyUrn': 'urn:li:fsd_company:94219255', 'trackingId': '1vyeLYr7Sd6YREk05itUVA=='}, 'employeeCountRange': {'start': 11, 'end': 50}, 'industries': ['Higher Education']}, 'title': 'Software Engineer', 'companyUrn': 'urn:li:fs_miniCompany:94219255'}], 'paging': {'start': 0, 'count': 5, 'total': 1, 'links': []}, 'miniCompany': {'objectUrn': 'urn:li:company:94219255', 'entityUrn': 'urn:li:fs_miniCompany:94219255', 'name': 'Rexpand', 'showcase': False, 'active': True, 'logo': {'com.linkedin.common.VectorImage': {'artifacts': [{'width': 200, 'fileIdentifyingUrlPathSegment': '200_200/0/1683699907839?e=1718841600&v=beta&t=bERTTFe6F0mxkTZicv218wUPLXoBDbOVO4qpl3NxLFs', 'expiresAt': 1718841600000, 'height': 200}, {'width': 100, 'fileIdentifyingUrlPathSegment': '100_100/0/1683699907839?e=1718841600&v=beta&t=qB9VU25XihK3d479zlfd88gSmmPk_8boYZ6Qxzs1plY', 'expiresAt': 1718841600000, 'height': 100}, {'width': 400, 'fileIdentifyingUrlPathSegment': '400_400/0/1683699907839?e=1718841600&v=beta&t=9Wbvg67MknbdTBFCgTAVNYM5G-TrtEr9Vli28aZAQ7c', 'expiresAt': 1718841600000, 'height': 400}], 'rootUrl': 'https://media.licdn.com/dms/image/D4E0BAQEEi27Y3Auqdg/company-logo_'}}, 'universalName': 'rexpandcareer', 'dashCompanyUrn': 'urn:li:fsd_company:94219255', 'trackingId': '1vyeLYr7Sd6YREk05itUVA=='}, 'entityUrn': 'urn:li:fs_positionGroup:(ACoAAEUi0BQB-WIP_IolPRGoYb4K5vGPqYTsHpg,0)'}]}, 'patentView': {'paging': {'start': 0, 'count': 10, 'total': 0, 'links': []}, 'entityUrn': 'urn:li:fs_patentView:ACoAAEUi0BQB-WIP_IolPRGoYb4K5vGPqYTsHpg', 'profileId': 'ACoAAEUi0BQB-WIP_IolPRGoYb4K5vGPqYTsHpg', 'elements': []}, 'summaryTreasuryMediaCount': 0, 'summaryTreasuryMedias': [], 'educationView': {'paging': {'start': 0, 'count': 3, 'total': 1, 'links': []}, 'entityUrn': 'urn:li:fs_educationView:ACoAAEUi0BQB-WIP_IolPRGoYb4K5vGPqYTsHpg', 'profileId': 'ACoAAEUi0BQB-WIP_IolPRGoYb4K5vGPqYTsHpg', 'elements': [{'entityUrn': 'urn:li:fs_education:(ACoAAEUi0BQB-WIP_IolPRGoYb4K5vGPqYTsHpg,928533186)', 'school': {'objectUrn': 'urn:li:school:17971', 'entityUrn': 'urn:li:fs_miniSchool:17971', 'active': True, 'logo': {'com.linkedin.common.VectorImage': {'artifacts': [{'width': 200, 'fileIdentifyingUrlPathSegment': '200_200/0/1631312619853?e=1718841600&v=beta&t=r1duG_BPlpTwzHvCNiMfzRoSIwcYHpVRyIEpF2bRcoE', 'expiresAt': 1718841600000, 'height': 200}, {'width': 100, 'fileIdentifyingUrlPathSegment': '100_100/0/1631312619853?e=1718841600&v=beta&t=J501ySDC6Y1if-yUphA35-oWYAyqDVSDFzuIzM8uYPo', 'expiresAt': 1718841600000, 'height': 100}, {'width': 400, 'fileIdentifyingUrlPathSegment': '400_400/0/1631312619853?e=1718841600&v=beta&t=r08XC_ykgf0gEy9e9VsHuXFjvTWL5mryqXYYXF06UDs', 'expiresAt': 1718841600000, 'height': 400}], 'rootUrl': 'https://media.licdn.com/dms/image/C4E0BAQHatTfEv4Af6w/company-logo_'}}, 'schoolName': 'University of Southern California', 'trackingId': 'Csgk71s/QOubQ8stgaQsgg=='}, '$anti_abuse_metadata': {'/schoolUrn': {'sourceUrns': {'com.linkedin.common.urn.MemberUrn': 'urn:li:member:1159909396'}}, '/degreeUrn': {'sourceUrns': {'com.linkedin.common.urn.MemberUrn': 'urn:li:member:1159909396'}}, '/fieldOfStudy': {'sourceUrns': {'com.linkedin.common.urn.MemberUrn': 'urn:li:member:1159909396'}}, '/activities': {'sourceUrns': {'com.linkedin.common.urn.MemberUrn': 'urn:li:member:1159909396'}}, '/entityUrn': {'sourceUrns': {'com.linkedin.common.urn.MemberUrn': 'urn:li:member:1159909396'}}, '/grade': {'sourceUrns': {'com.linkedin.common.urn.MemberUrn': 'urn:li:member:1159909396'}}, '/fieldOfStudyUrn': {'sourceUrns': {'com.linkedin.common.urn.MemberUrn': 'urn:li:member:1159909396'}}, '/schoolName': {'sourceUrns': {'com.linkedin.common.urn.MemberUrn': 'urn:li:member:1159909396'}}, '/degreeName': {'sourceUrns': {'com.linkedin.common.urn.MemberUrn': 'urn:li:member:1159909396'}}, '/description': {'sourceUrns': {'com.linkedin.common.urn.MemberUrn': 'urn:li:member:1159909396'}}}, 'timePeriod': {'endDate': {'month': 5, 'year': 2020}, 'startDate': {'month': 8, 'year': 2018}}, 'fieldOfStudyUrn': 'urn:li:fs_fieldOfStudy:100189', 'degreeName': \"Master's degree\", 'schoolName': 'University of Southern California', 'fieldOfStudy': 'Computer Science', 'degreeUrn': 'urn:li:fs_degree:500', 'schoolUrn': 'urn:li:fs_miniSchool:17971'}]}, 'organizationView': {'paging': {'start': 0, 'count': 10, 'total': 0, 'links': []}, 'entityUrn': 'urn:li:fs_organizationView:ACoAAEUi0BQB-WIP_IolPRGoYb4K5vGPqYTsHpg', 'profileId': 'ACoAAEUi0BQB-WIP_IolPRGoYb4K5vGPqYTsHpg', 'elements': []}, 'projectView': {'paging': {'start': 0, 'count': 10, 'total': 0, 'links': []}, 'entityUrn': 'urn:li:fs_projectView:ACoAAEUi0BQB-WIP_IolPRGoYb4K5vGPqYTsHpg', 'profileId': 'ACoAAEUi0BQB-WIP_IolPRGoYb4K5vGPqYTsHpg', 'elements': []}, 'positionView': {'paging': {'start': 0, 'count': 5, 'total': 1, 'links': []}, 'entityUrn': 'urn:li:fs_positionView:ACoAAEUi0BQB-WIP_IolPRGoYb4K5vGPqYTsHpg', 'profileId': 'ACoAAEUi0BQB-WIP_IolPRGoYb4K5vGPqYTsHpg', 'elements': [{'entityUrn': 'urn:li:fs_position:(ACoAAEUi0BQB-WIP_IolPRGoYb4K5vGPqYTsHpg,2216198050)', '$anti_abuse_metadata': {'/geoUrn': {'sourceUrns': {'com.linkedin.common.urn.MemberUrn': 'urn:li:member:1159909396'}}, '/companyName': {'sourceUrns': {'com.linkedin.common.urn.MemberUrn': 'urn:li:member:1159909396'}}, '/companyUrn': {'sourceUrns': {'com.linkedin.common.urn.MemberUrn': 'urn:li:member:1159909396'}}, '/entityUrn': {'sourceUrns': {'com.linkedin.common.urn.MemberUrn': 'urn:li:member:1159909396'}}, '/geoLocationName': {'sourceUrns': {'com.linkedin.common.urn.MemberUrn': 'urn:li:member:1159909396'}}, '/promotion': {'sourceUrns': {'com.linkedin.common.urn.MemberUrn': 'urn:li:member:1159909396'}}, '/title': {'sourceUrns': {'com.linkedin.common.urn.MemberUrn': 'urn:li:member:1159909396'}}, '/region': {'sourceUrns': {'com.linkedin.common.urn.MemberUrn': 'urn:li:member:1159909396'}}, '/locationName': {'sourceUrns': {'com.linkedin.common.urn.MemberUrn': 'urn:li:member:1159909396'}}, '/description': {'sourceUrns': {'com.linkedin.common.urn.MemberUrn': 'urn:li:member:1159909396'}}}, 'companyName': 'Rexpand', 'company': {'miniCompany': {'objectUrn': 'urn:li:company:94219255', 'entityUrn': 'urn:li:fs_miniCompany:94219255', 'name': 'Rexpand', 'showcase': False, 'active': True, 'logo': {'com.linkedin.common.VectorImage': {'artifacts': [{'width': 200, 'fileIdentifyingUrlPathSegment': '200_200/0/1683699907839?e=1718841600&v=beta&t=bERTTFe6F0mxkTZicv218wUPLXoBDbOVO4qpl3NxLFs', 'expiresAt': 1718841600000, 'height': 200}, {'width': 100, 'fileIdentifyingUrlPathSegment': '100_100/0/1683699907839?e=1718841600&v=beta&t=qB9VU25XihK3d479zlfd88gSmmPk_8boYZ6Qxzs1plY', 'expiresAt': 1718841600000, 'height': 100}, {'width': 400, 'fileIdentifyingUrlPathSegment': '400_400/0/1683699907839?e=1718841600&v=beta&t=9Wbvg67MknbdTBFCgTAVNYM5G-TrtEr9Vli28aZAQ7c', 'expiresAt': 1718841600000, 'height': 400}], 'rootUrl': 'https://media.licdn.com/dms/image/D4E0BAQEEi27Y3Auqdg/company-logo_'}}, 'universalName': 'rexpandcareer', 'dashCompanyUrn': 'urn:li:fsd_company:94219255', 'trackingId': '6cmgqHIvR3KrmY3+p6YAQA=='}, 'employeeCountRange': {'start': 11, 'end': 50}, 'industries': ['Higher Education']}, 'title': 'Software Engineer', 'companyUrn': 'urn:li:fs_miniCompany:94219255'}]}, 'profile': {'industryName': 'Education', 'lastName': 'Feng', 'supportedLocales': [{'country': 'US', 'language': 'en'}], 'locationName': 'United States', 'student': False, '$anti_abuse_metadata': {'/lastName': {'sourceUrns': {'com.linkedin.common.urn.MemberUrn': 'urn:li:member:1159909396'}}, '/phoneticFirstName': {'sourceUrns': {'com.linkedin.common.urn.MemberUrn': 'urn:li:member:1159909396'}}, '/geoCountryUrn': {'sourceUrns': {'com.linkedin.common.urn.MemberUrn': 'urn:li:member:1159909396'}}, '/entityUrn': {'sourceUrns': {'com.linkedin.common.urn.MemberUrn': 'urn:li:member:1159909396'}}, '/elt': {'sourceUrns': {'com.linkedin.common.urn.MemberUrn': 'urn:li:member:1159909396'}}, '/firstName': {'sourceUrns': {'com.linkedin.common.urn.MemberUrn': 'urn:li:member:1159909396'}}, '/summary': {'sourceUrns': {'com.linkedin.common.urn.MemberUrn': 'urn:li:member:1159909396'}}, '/address': {'sourceUrns': {'com.linkedin.common.urn.MemberUrn': 'urn:li:member:1159909396'}}, '/geoLocationName': {'sourceUrns': {'com.linkedin.common.urn.MemberUrn': 'urn:li:member:1159909396'}}, '/industryName': {'sourceUrns': {'com.linkedin.common.urn.MemberUrn': 'urn:li:member:1159909396'}}, '/geoLocationBackfilled': {'sourceUrns': {'com.linkedin.common.urn.MemberUrn': 'urn:li:member:1159909396'}}, '/phoneticLastName': {'sourceUrns': {'com.linkedin.common.urn.MemberUrn': 'urn:li:member:1159909396'}}, '/versionTag': {'sourceUrns': {'com.linkedin.common.urn.MemberUrn': 'urn:li:member:1159909396'}}, '/maidenName': {'sourceUrns': {'com.linkedin.common.urn.MemberUrn': 'urn:li:member:1159909396'}}, '/student': {'sourceUrns': {'com.linkedin.common.urn.MemberUrn': 'urn:li:member:1159909396'}}, '/headline': {'sourceUrns': {'com.linkedin.common.urn.MemberUrn': 'urn:li:member:1159909396'}}, '/locationName': {'sourceUrns': {'com.linkedin.common.urn.MemberUrn': 'urn:li:member:1159909396'}}, '/geoCountryName': {'sourceUrns': {'com.linkedin.common.urn.MemberUrn': 'urn:li:member:1159909396'}}, '/industryUrn': {'sourceUrns': {'com.linkedin.common.urn.MemberUrn': 'urn:li:member:1159909396'}}, '/showEducationOnProfileTopCard': {'sourceUrns': {'com.linkedin.common.urn.MemberUrn': 'urn:li:member:1159909396'}}}, 'geoCountryName': 'United States', 'geoCountryUrn': 'urn:li:fs_geo:103644278', 'versionTag': '3473025520', 'geoLocationBackfilled': False, 'elt': True, 'industryUrn': 'urn:li:fs_industry:1999', 'defaultLocale': {'country': 'US', 'language': 'en'}, 'firstName': 'Samuel', 'showEducationOnProfileTopCard': True, 'entityUrn': 'urn:li:fs_profile:ACoAAEUi0BQB-WIP_IolPRGoYb4K5vGPqYTsHpg', 'geoLocation': {'geoUrn': 'urn:li:fs_geo:104194190'}, 'geoLocationName': 'Dallas, Texas', 'location': {'basicLocation': {'countryCode': 'us'}}, 'miniProfile': {'firstName': 'Samuel', 'lastName': 'Feng', 'dashEntityUrn': 'urn:li:fsd_profile:ACoAAEUi0BQB-WIP_IolPRGoYb4K5vGPqYTsHpg', 'occupation': 'Software Engineer at Rexpand', 'objectUrn': 'urn:li:member:1159909396', 'entityUrn': 'urn:li:fs_miniProfile:ACoAAEUi0BQB-WIP_IolPRGoYb4K5vGPqYTsHpg', 'publicIdentifier': 'samuel-feng-a4454b284', 'trackingId': 'WwNswqaWTSqGxcg4IxpCEw=='}, 'headline': 'Software Engineer at Rexpand'}, 'languageView': {'paging': {'start': 0, 'count': 10, 'total': 0, 'links': []}, 'entityUrn': 'urn:li:fs_languageView:ACoAAEUi0BQB-WIP_IolPRGoYb4K5vGPqYTsHpg', 'profileId': 'ACoAAEUi0BQB-WIP_IolPRGoYb4K5vGPqYTsHpg', 'elements': []}, 'certificationView': {'paging': {'start': 0, 'count': 10, 'total': 0, 'links': []}, 'entityUrn': 'urn:li:fs_certificationView:ACoAAEUi0BQB-WIP_IolPRGoYb4K5vGPqYTsHpg', 'profileId': 'ACoAAEUi0BQB-WIP_IolPRGoYb4K5vGPqYTsHpg', 'elements': []}, 'testScoreView': {'paging': {'start': 0, 'count': 10, 'total': 0, 'links': []}, 'entityUrn': 'urn:li:fs_testScoreView:ACoAAEUi0BQB-WIP_IolPRGoYb4K5vGPqYTsHpg', 'profileId': 'ACoAAEUi0BQB-WIP_IolPRGoYb4K5vGPqYTsHpg', 'elements': []}, 'volunteerCauseView': {'paging': {'start': 0, 'count': 0, 'total': 0, 'links': []}, 'entityUrn': 'urn:li:fs_volunteerCauseView:ACoAAEUi0BQB-WIP_IolPRGoYb4K5vGPqYTsHpg', 'profileId': 'ACoAAEUi0BQB-WIP_IolPRGoYb4K5vGPqYTsHpg', 'elements': []}, 'entityUrn': 'urn:li:fs_profileView:ACoAAEUi0BQB-WIP_IolPRGoYb4K5vGPqYTsHpg', 'courseView': {'paging': {'start': 0, 'count': 10, 'total': 0, 'links': []}, 'entityUrn': 'urn:li:fs_courseView:ACoAAEUi0BQB-WIP_IolPRGoYb4K5vGPqYTsHpg', 'profileId': 'ACoAAEUi0BQB-WIP_IolPRGoYb4K5vGPqYTsHpg', 'elements': []}, 'honorView': {'paging': {'start': 0, 'count': 10, 'total': 0, 'links': []}, 'entityUrn': 'urn:li:fs_honorView:ACoAAEUi0BQB-WIP_IolPRGoYb4K5vGPqYTsHpg', 'profileId': 'ACoAAEUi0BQB-WIP_IolPRGoYb4K5vGPqYTsHpg', 'elements': []}, 'skillView': {'paging': {'start': 0, 'count': 4, 'total': 0, 'links': []}, 'entityUrn': 'urn:li:fs_skillView:ACoAAEUi0BQB-WIP_IolPRGoYb4K5vGPqYTsHpg', 'profileId': 'ACoAAEUi0BQB-WIP_IolPRGoYb4K5vGPqYTsHpg', 'elements': []}, 'volunteerExperienceView': {'paging': {'start': 0, 'count': 3, 'total': 0, 'links': []}, 'entityUrn': 'urn:li:fs_volunteerExperienceView:ACoAAEUi0BQB-WIP_IolPRGoYb4K5vGPqYTsHpg', 'profileId': 'ACoAAEUi0BQB-WIP_IolPRGoYb4K5vGPqYTsHpg', 'elements': []}, 'primaryLocale': {'country': 'US', 'language': 'en'}, 'publicationView': {'paging': {'start': 0, 'count': 10, 'total': 0, 'links': []}, 'entityUrn': 'urn:li:fs_publicationView:ACoAAEUi0BQB-WIP_IolPRGoYb4K5vGPqYTsHpg', 'profileId': 'ACoAAEUi0BQB-WIP_IolPRGoYb4K5vGPqYTsHpg', 'elements': []}}\n",
      "DEBUG:root:Stopped retrying since the response is not retryable\n",
      "INFO:root:Wrote JSON data to ./output/profile_v2.json\n"
     ]
    }
   ],
   "source": [
    "profile = api.get_profile_v2(public_id=public_id, return_raw_data=False, verbose=True, auto_retry=True, retry_limit=1, verbose_on_retry=True)\n",
    "write_file(profile, './output/profile_v2.json', verbose=True)\n"
   ]
  },
  {
   "cell_type": "code",
   "execution_count": 7,
   "metadata": {},
   "outputs": [
    {
     "name": "stderr",
     "output_type": "stream",
     "text": [
      "DEBUG:urllib3.connectionpool:Resetting dropped connection: www.linkedin.com\n",
      "DEBUG:urllib3.connectionpool:Starting new HTTPS connection (2): www.linkedin.com:443\n",
      "DEBUG:urllib3.connectionpool:https://www.linkedin.com:443 \"GET /in/samuel-feng-a4454b284/ HTTP/1.1\" 200 None\n",
      "DEBUG:linkedin_api.linkedin:Successfully called profile HTML API for ID samuel-feng-a4454b284 with status 200 and data <!DOCTYPE html><html lang=\"en\" class=\"theme theme--mercado  \"><head>\\n    <script type=\"application/javascript\">!function(i,n){void 0!==i.addEventListener&&void 0!==i.hidden&&(n.liVisibilityChangeListener=function(){i.hidden&&(n.liHasWindowHidden=!0)},i.addEventListener(\"visibilitychange\",n.liVisibil... (truncated)\n",
      "INFO:root:Wrote JSON data to ./output/profile_html.json\n"
     ]
    }
   ],
   "source": [
    "profile = api.get_profile_html(public_id=public_id)\n",
    "write_file(profile, './output/profile_html.json', verbose=True)\n"
   ]
  },
  {
   "cell_type": "code",
   "execution_count": null,
   "metadata": {},
   "outputs": [],
   "source": [
    "user_ids = api.get_user_ids(public_id=public_id, \n",
    "                       enable_mini_profile_fetch=True, \n",
    "                       enable_profile_fetch=True, \n",
    "                       enable_profile_html_fetch=True)\n",
    "write_file(user_ids, './output/user_ids.json', verbose=True)\n"
   ]
  },
  {
   "cell_type": "code",
   "execution_count": null,
   "metadata": {},
   "outputs": [],
   "source": [
    "hash_id='ACoAAEUi0BQB-WIP_IolPRGoYb4K5vGPqYTsHpg'\n",
    "\n",
    "conn_response = api.add_connection_v2(public_id=public_id, hash_id=hash_id)\n",
    "write_file(conn_response, './output/connection_v2.json', verbose=True)\n"
   ]
  },
  {
   "cell_type": "code",
   "execution_count": null,
   "metadata": {},
   "outputs": [],
   "source": [
    "hash_id='ACoAAEUi0BQB-WIP_IolPRGoYb4K5vGPqYTsHpg'\n",
    "\n",
    "conn_response = api.add_connection_v3(public_id=public_id, hash_id=hash_id, timezone='Asia/Shanghai', display_width=1920, display_height=1080)\n",
    "write_file(conn_response, './output/connection_v3.json', verbose=True)\n"
   ]
  },
  {
   "cell_type": "code",
   "execution_count": null,
   "metadata": {},
   "outputs": [],
   "source": []
  },
  {
   "cell_type": "code",
   "execution_count": null,
   "metadata": {},
   "outputs": [],
   "source": [
    "html = api._fetch('/in/shuo-feng', base_request=True)"
   ]
  },
  {
   "cell_type": "code",
   "execution_count": null,
   "metadata": {},
   "outputs": [],
   "source": [
    "write_file(html.text, './output/profile.html', verbose=True)"
   ]
  },
  {
   "cell_type": "code",
   "execution_count": null,
   "metadata": {},
   "outputs": [],
   "source": []
  }
 ],
 "metadata": {
  "kernelspec": {
   "display_name": "local",
   "language": "python",
   "name": "python3"
  },
  "language_info": {
   "codemirror_mode": {
    "name": "ipython",
    "version": 3
   },
   "file_extension": ".py",
   "mimetype": "text/x-python",
   "name": "python",
   "nbconvert_exporter": "python",
   "pygments_lexer": "ipython3",
   "version": "3.11.5"
  }
 },
 "nbformat": 4,
 "nbformat_minor": 2
}
