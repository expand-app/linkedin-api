{
 "cells": [
  {
   "cell_type": "code",
   "execution_count": 1,
   "metadata": {},
   "outputs": [],
   "source": [
    "%load_ext autoreload\n",
    "%autoreload 2\n",
    "\n",
    "import logging\n",
    "logging.basicConfig(level=logging.DEBUG)\n",
    "# from linkedin_api import AdvancedLinkedin\n",
    "# from file_system import write_file"
   ]
  },
  {
   "cell_type": "code",
   "execution_count": 5,
   "metadata": {},
   "outputs": [],
   "source": [
    "index = 0\n",
    "\n",
    "def base_function(auto_retry=True):\n",
    "    data = {\n",
    "        \"auto_retry\": auto_retry\n",
    "    }\n",
    "    logging.info(f\"base_function is called with {data}\")\n",
    "    global index\n",
    "\n",
    "    index += 1\n",
    "\n",
    "    if index < 5:\n",
    "        return False\n",
    "    \n",
    "    return True\n",
    "\n"
   ]
  },
  {
   "cell_type": "code",
   "execution_count": 6,
   "metadata": {},
   "outputs": [
    {
     "name": "stderr",
     "output_type": "stream",
     "text": [
      "DEBUG:root:Final configuration: {'enable_retry': True, 'retry_limit': 5, 'verbose': True, 'enable_final_on_retry_prepare': True, 'enable_validate_retryable_response': True}\n",
      "DEBUG:root:Current attempt: 1\n",
      "INFO:root:base_function is called with {'auto_retry': True, 'retry_limit': 5, 'verbose': False}\n",
      "INFO:root:validate_response is called with {'response': False}\n",
      "DEBUG:root:Retrying since its response is retryable, retry is enabled, and attempt count 1 is under or equal to retry limit 5\n",
      "DEBUG:root:Triggering retry preparation method\n",
      "INFO:root:on_retry_prepare is called\n",
      "DEBUG:root:Current attempt: 2\n",
      "INFO:root:base_function is called with {'auto_retry': True, 'retry_limit': 5, 'verbose': False}\n",
      "INFO:root:validate_response is called with {'response': False}\n",
      "DEBUG:root:Retrying since its response is retryable, retry is enabled, and attempt count 2 is under or equal to retry limit 5\n",
      "DEBUG:root:Triggering retry preparation method\n",
      "INFO:root:on_retry_prepare is called\n",
      "DEBUG:root:Current attempt: 3\n",
      "INFO:root:base_function is called with {'auto_retry': True, 'retry_limit': 5, 'verbose': False}\n",
      "INFO:root:validate_response is called with {'response': False}\n",
      "DEBUG:root:Retrying since its response is retryable, retry is enabled, and attempt count 3 is under or equal to retry limit 5\n",
      "DEBUG:root:Triggering retry preparation method\n",
      "INFO:root:on_retry_prepare is called\n",
      "DEBUG:root:Current attempt: 4\n",
      "INFO:root:base_function is called with {'auto_retry': True, 'retry_limit': 5, 'verbose': False}\n",
      "INFO:root:validate_response is called with {'response': False}\n",
      "DEBUG:root:Retrying since its response is retryable, retry is enabled, and attempt count 4 is under or equal to retry limit 5\n",
      "DEBUG:root:Triggering retry preparation method\n",
      "INFO:root:on_retry_prepare is called\n",
      "DEBUG:root:Current attempt: 5\n",
      "INFO:root:base_function is called with {'auto_retry': True, 'retry_limit': 5, 'verbose': False}\n",
      "INFO:root:validate_response is called with {'response': True}\n",
      "DEBUG:root:Stopped retrying since the response is not retryable\n"
     ]
    },
    {
     "data": {
      "text/plain": [
       "True"
      ]
     },
     "execution_count": 6,
     "metadata": {},
     "output_type": "execute_result"
    }
   ],
   "source": [
    "from linkedin_api.utils.function import retry\n",
    "\n",
    "def on_retry_prepare():\n",
    "    logging.info('on_retry_prepare is called')\n",
    "    # global index\n",
    "\n",
    "    # index += 1\n",
    "\n",
    "def validate_response(response):\n",
    "    data = {\n",
    "        \"response\": response\n",
    "    }\n",
    "    logging.info(f'validate_response is called with {data}')\n",
    "    \n",
    "    return not response\n",
    "\n",
    "@retry(\n",
    "    # enable_retry_keyword='auto_retry',\n",
    "    # on_retry_prepare_method_name_in_class='authenticate',\n",
    "    on_retry_prepare=on_retry_prepare,\n",
    "    validate_retryable_response=validate_response,\n",
    "    # retry_limit_keyword=\n",
    "    verbose=False\n",
    ")\n",
    "def base_function_v2(auto_retry=True, retry_limit=5, verbose=False, verbose_on_retry=True):\n",
    "    data = {\n",
    "        \"auto_retry\": auto_retry,\n",
    "        \"retry_limit\": retry_limit,\n",
    "        \"verbose\": verbose,\n",
    "    }\n",
    "    logging.info(f\"base_function is called with {data}\")\n",
    "    global index\n",
    "\n",
    "    index += 1\n",
    "\n",
    "    if index < 5:\n",
    "        return False\n",
    "    \n",
    "    return True\n",
    "\n",
    "\n",
    "\n",
    "base_function_v2(auto_retry=True)\n"
   ]
  },
  {
   "cell_type": "code",
   "execution_count": null,
   "metadata": {},
   "outputs": [],
   "source": []
  },
  {
   "cell_type": "code",
   "execution_count": 37,
   "metadata": {},
   "outputs": [],
   "source": [
    "0 or 1\n",
    "\n",
    "attr = None\n",
    "\n",
    "getattr(None, attr, 1) if attr else None"
   ]
  },
  {
   "cell_type": "code",
   "execution_count": null,
   "metadata": {},
   "outputs": [],
   "source": []
  },
  {
   "cell_type": "code",
   "execution_count": 4,
   "metadata": {},
   "outputs": [
    {
     "name": "stderr",
     "output_type": "stream",
     "text": [
      "DEBUG:root:Current attempt 0\n",
      "INFO:root:base_function is called with {'auto_retry': True}\n",
      "INFO:root:validate_response is called with {'response': False}\n",
      "DEBUG:root:Retrying since its response is retryable, retry is enabled, and attempt count 1 is under or equal to retry limit 2\n",
      "DEBUG:root:Triggering retry preparation method\n",
      "INFO:root:on_retry_prepare is called\n",
      "DEBUG:root:Current attempt 1\n",
      "INFO:root:base_function is called with {'auto_retry': True}\n",
      "INFO:root:validate_response is called with {'response': False}\n",
      "DEBUG:root:Retrying since its response is retryable, retry is enabled, and attempt count 2 is under or equal to retry limit 2\n",
      "DEBUG:root:Triggering retry preparation method\n",
      "INFO:root:on_retry_prepare is called\n",
      "DEBUG:root:Current attempt 2\n",
      "INFO:root:base_function is called with {'auto_retry': True}\n",
      "INFO:root:validate_response is called with {'response': False}\n",
      "DEBUG:root:Stopped retrying since attemp count 3 exceeds the retry limit 2\n"
     ]
    },
    {
     "data": {
      "text/plain": [
       "False"
      ]
     },
     "execution_count": 4,
     "metadata": {},
     "output_type": "execute_result"
    }
   ],
   "source": [
    "from linkedin_api.utils.function import retry\n",
    "\n",
    "def on_retry_prepare():\n",
    "    logging.info('on_retry_prepare is called')\n",
    "    # global index\n",
    "\n",
    "    # index += 1\n",
    "\n",
    "def validate_response(response):\n",
    "    data = {\n",
    "        \"response\": response\n",
    "    }\n",
    "    logging.info(f'validate_response is called with {data}')\n",
    "    \n",
    "    return not response\n",
    "\n",
    "\n",
    "# retry_decorator = retry(\n",
    "#     enable_retry_keyword='auto_retry',\n",
    "#     # on_retry_prepare_method_name_in_class='authenticate',\n",
    "#     on_retry_prepare=on_retry_prepare,\n",
    "#     check_response=check_response,\n",
    "#     retry_limit=5)\n",
    "# base_function_with_retry = retry_decorator(base_function)\n",
    "\n",
    "\n",
    "# base_function_with_retry(auto_retry=True)\n",
    "\n",
    "\n",
    "index = 0\n",
    "\n",
    "# @auto_reauthenticate(trigger_keyword='auto_reauth', auth_method_name='authenticate', retry_limit=1)\n",
    "\n",
    "@retry(\n",
    "    # enable_retry_keyword='auto_retry',\n",
    "    # on_retry_prepare_method_name_in_class='authenticate',\n",
    "    on_retry_prepare=on_retry_prepare,\n",
    "    validate_retryable_response=validate_response,\n",
    "    # retry_limit_keyword=\n",
    ")\n",
    "def base_function_v2(auto_retry=True, retry_limit=2):\n",
    "    data = {\n",
    "        \"auto_retry\": auto_retry\n",
    "    }\n",
    "    logging.info(f\"base_function is called with {data}\")\n",
    "    global index\n",
    "\n",
    "    index += 1\n",
    "\n",
    "    if index < 5:\n",
    "        return False\n",
    "    \n",
    "    return True\n",
    "\n",
    "\n",
    "\n",
    "base_function_v2(auto_retry=True)\n"
   ]
  },
  {
   "cell_type": "code",
   "execution_count": null,
   "metadata": {},
   "outputs": [],
   "source": []
  },
  {
   "cell_type": "code",
   "execution_count": 20,
   "metadata": {},
   "outputs": [
    {
     "name": "stdout",
     "output_type": "stream",
     "text": [
      "args ()\n",
      "kwargs {'auto_retry': True}\n",
      "should_retry True\n",
      "response_is_valid True\n"
     ]
    },
    {
     "data": {
      "text/plain": [
       "False"
      ]
     },
     "execution_count": 20,
     "metadata": {},
     "output_type": "execute_result"
    }
   ],
   "source": []
  },
  {
   "cell_type": "code",
   "execution_count": null,
   "metadata": {},
   "outputs": [],
   "source": []
  },
  {
   "cell_type": "code",
   "execution_count": null,
   "metadata": {},
   "outputs": [],
   "source": []
  }
 ],
 "metadata": {
  "kernelspec": {
   "display_name": "local",
   "language": "python",
   "name": "python3"
  },
  "language_info": {
   "codemirror_mode": {
    "name": "ipython",
    "version": 3
   },
   "file_extension": ".py",
   "mimetype": "text/x-python",
   "name": "python",
   "nbconvert_exporter": "python",
   "pygments_lexer": "ipython3",
   "version": "3.11.5"
  }
 },
 "nbformat": 4,
 "nbformat_minor": 2
}
